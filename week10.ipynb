{
 "cells": [
  {
   "cell_type": "markdown",
   "metadata": {},
   "source": [
    "Week 10\n",
    "202111242 고현규"
   ]
  },
  {
   "cell_type": "markdown",
   "metadata": {},
   "source": [
    "실습 1"
   ]
  },
  {
   "cell_type": "code",
   "execution_count": 3,
   "metadata": {},
   "outputs": [
    {
     "name": "stdout",
     "output_type": "stream",
     "text": [
      "죽는 날까지 하늘을 우러러 \n",
      "한 점 부끄럼이 없기를,\n",
      "잎새에 이는 바람에도 \n",
      "너는 괴로워했다.\n",
      "별을 노래하는 마음으로\n",
      "모든 죽어가는 것을 사랑해야지\n",
      "그리고 너한테 주어진 길을 \n",
      "걸어가야겠다.\n",
      "오늘 밤에도 별이 바람에 스치운다.\n"
     ]
    }
   ],
   "source": [
    "str = \"\"\"    죽는 날까지 하늘을 우러러 \n",
    "한 점 부끄럼이 없기를,\n",
    "잎새에 이는 바람에도 \n",
    "나는 괴로워했다.\n",
    "별을 노래하는 마음으로\n",
    "모든 죽어가는 것을 사랑해야지\n",
    "그리고 나한테 주어진 길을 \n",
    "걸어가야겠다.\n",
    "오늘 밤에도 별이 바람에 스치운다.   \"\"\"\n",
    "str = str.strip() #앞뒤 공백 제거\n",
    "str = str.replace(\"나\",\"너\")\n",
    "print(str)"
   ]
  },
  {
   "cell_type": "markdown",
   "metadata": {},
   "source": [
    "실습 2"
   ]
  },
  {
   "cell_type": "code",
   "execution_count": 5,
   "metadata": {},
   "outputs": [
    {
     "name": "stdout",
     "output_type": "stream",
     "text": [
      "Numbers=?2 3 4 5 8 7 6\n",
      "Max =  8\n"
     ]
    }
   ],
   "source": [
    "str = input(\"Numbers=?\")\n",
    "strlist = str.split()\n",
    "\n",
    "max = int(strlist[0])\n",
    "\n",
    "for str1 in strlist[1:]:\n",
    "    num = int(str1)\n",
    "    if(num > max):\n",
    "        max = num\n",
    "\n",
    "print(\"Max = \",max)"
   ]
  },
  {
   "cell_type": "markdown",
   "metadata": {},
   "source": [
    "실습 3"
   ]
  },
  {
   "cell_type": "code",
   "execution_count": 6,
   "metadata": {},
   "outputs": [
    {
     "name": "stdout",
     "output_type": "stream",
     "text": [
      "\"abc def\" is encoded into \"efg!bcd\"\n",
      "\"efg!bcd\" is decoded into \"abc def\"\n"
     ]
    }
   ],
   "source": [
    "def conv_asc(str, num):\n",
    "    new_str = \"\"\n",
    "    for i in str:\n",
    "        code = ord(i)\n",
    "        new_str += chr(code + num)\n",
    "    return new_str\n",
    "\n",
    "def enc(str, key):\n",
    "    list = str.split()\n",
    "    list = list[::-1] #리스트를 역순으로 재정렬\n",
    "    new_str = \" \".join(list)\n",
    "    return conv_asc(new_str,key)\n",
    "\n",
    "def dec(str, key):\n",
    "    str = conv_asc(str, key*-1)\n",
    "    list = str.split()\n",
    "    list = list[::-1]\n",
    "    new_str = \" \".join(list)\n",
    "    return new_str\n",
    "\n",
    "str = \"abc def\"\n",
    "enc_str = enc(str, 1)\n",
    "print(\"\\\"\"+str+\"\\\" is encoded into \\\"\"+enc_str+\"\\\"\")\n",
    "\n",
    "dec_str = dec(enc_str,1)\n",
    "print(\"\\\"\"+enc_str+\"\\\" is decoded into \\\"\"+dec_str+\"\\\"\")"
   ]
  },
  {
   "cell_type": "code",
   "execution_count": 3,
   "metadata": {},
   "outputs": [],
   "source": [
    "import csv # , 로 분리된 엑셀파일\n",
    "# f = open('data.csv','r',edcoding = 'cp949')\n",
    "# data = csv.reader(f,delimiter=',') # 구분자는 컴마다\n",
    "# print(data) # 데이터가 아니라 그냥 객체정보가 출력\n",
    "# f.close"
   ]
  },
  {
   "cell_type": "code",
   "execution_count": 4,
   "metadata": {},
   "outputs": [],
   "source": [
    "# f = open('data.csv','r',edcoding = 'cp949')\n",
    "# data = csv.reader(f)\n",
    "# for row in data:\n",
    "#     print(row)\n",
    "# f.close()"
   ]
  },
  {
   "cell_type": "code",
   "execution_count": 6,
   "metadata": {},
   "outputs": [],
   "source": [
    "# f = open('new.txt','w')\n",
    "\n",
    "# for i in range(1,11):\n",
    "#     data = \"{0:d} line.\\n\".format(i)\n",
    "#     f.write(data)\n",
    "# f.close()"
   ]
  },
  {
   "cell_type": "code",
   "execution_count": 7,
   "metadata": {},
   "outputs": [],
   "source": [
    "# str.upper() # 대문자로"
   ]
  },
  {
   "cell_type": "code",
   "execution_count": 8,
   "metadata": {},
   "outputs": [],
   "source": [
    "import sys #명령행 인자 사용\n",
    "\n",
    "# arg_num = len(sys.argv)\n",
    "# if arg_num != 3:\n",
    "#     print(\"error\")\n",
    "#     sys.exit()\n",
    "    \n",
    "# in_name = sys.argv[1]\n",
    "# out_name = sys.argv[2]\n",
    "\n",
    "# in_f = open(in_name,\"rb\")\n",
    "# out_f = open(out_name,\"wb\")\n",
    "\n",
    "# data = in_f.read()\n",
    "# out_f.write(data)\n",
    "\n",
    "# in_f.close()\n",
    "# out_f.close()"
   ]
  },
  {
   "cell_type": "code",
   "execution_count": 9,
   "metadata": {},
   "outputs": [],
   "source": [
    "#클래스에서 연산자 오버로딩 틀\n",
    "# def __add__(self, other):\n",
    "#     self.어쩌고저쩌고\n",
    "#     return self"
   ]
  },
  {
   "cell_type": "code",
   "execution_count": 10,
   "metadata": {},
   "outputs": [],
   "source": [
    "# 예외처리\n",
    "# try:\n",
    "#     num3 = num1 / num2\n",
    "# except ZeroDivisionError as e:\n",
    "#     print(e)\n",
    "# finally:\n",
    "#     print(\"end\")"
   ]
  },
  {
   "cell_type": "code",
   "execution_count": null,
   "metadata": {},
   "outputs": [],
   "source": []
  }
 ],
 "metadata": {
  "kernelspec": {
   "display_name": "Python 3",
   "language": "python",
   "name": "python3"
  },
  "language_info": {
   "codemirror_mode": {
    "name": "ipython",
    "version": 3
   },
   "file_extension": ".py",
   "mimetype": "text/x-python",
   "name": "python",
   "nbconvert_exporter": "python",
   "pygments_lexer": "ipython3",
   "version": "3.8.5"
  }
 },
 "nbformat": 4,
 "nbformat_minor": 4
}
