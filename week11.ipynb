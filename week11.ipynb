{
 "cells": [
  {
   "cell_type": "markdown",
   "metadata": {},
   "source": [
    "week11 202111242 고현규"
   ]
  },
  {
   "cell_type": "markdown",
   "metadata": {},
   "source": [
    "실습 1"
   ]
  },
  {
   "cell_type": "code",
   "execution_count": 14,
   "metadata": {},
   "outputs": [
    {
     "name": "stdout",
     "output_type": "stream",
     "text": [
      "파이썬  :  2\n",
      "파일  :  2\n",
      "읽기  :  2\n",
      "예제입니다.  :  2\n",
      "다양한  :  1\n",
      "메소드를  :  1\n",
      "공부해  :  1\n",
      "보세요.  :  1\n",
      "실력이  :  1\n",
      "팍팍  :  1\n",
      "늘  :  1\n",
      "거에요~  :  1\n",
      "단어  :  1\n",
      "수를  :  1\n",
      "카운트하는  :  1\n",
      "실습  :  1\n"
     ]
    }
   ],
   "source": [
    "file = open('README.txt' , 'r' , encoding = \"utf-8\")\n",
    "data = file.read()\n",
    "list = data.strip().split()\n",
    "dict = {}\n",
    "for w in list:\n",
    "    if w in dict:\n",
    "        dict[w]+=1\n",
    "    else:\n",
    "        dict[w]=1\n",
    "for d in dict:\n",
    "    print(d ,' : ' , dict[d])"
   ]
  },
  {
   "cell_type": "markdown",
   "metadata": {},
   "source": [
    "실습 2"
   ]
  },
  {
   "cell_type": "code",
   "execution_count": 16,
   "metadata": {},
   "outputs": [
    {
     "name": "stdout",
     "output_type": "stream",
     "text": [
      "(1,2)\n",
      "(3,4)\n",
      "(2,3)\n",
      "(4,5)\n"
     ]
    }
   ],
   "source": [
    "class Point:\n",
    "    def __init__(self , x, y):\n",
    "        self.x = x\n",
    "        self.y = y\n",
    "\n",
    "    def move (self , dx , dy):\n",
    "        self.x+=dx\n",
    "        self.y+=dy\n",
    "\n",
    "    def show(self):\n",
    "        print(\"({0:d},{1:d})\".format(self.x,self.y))\n",
    "\n",
    "\n",
    "#box객체\n",
    "class Box(Point):\n",
    "    def __init__(self , p1, p2):\n",
    "            self.p1 = p1\n",
    "            self.p2 = p2\n",
    "    \n",
    "    def move(self , dx , dy):\n",
    "        self.p1.move(dx,dy)\n",
    "        self.p2.move(dx,dy)\n",
    "    \n",
    "    def show(self):\n",
    "        self.p1.show()\n",
    "        self.p2.show()\n",
    "\n",
    "p1 = Point(1,2)\n",
    "p1.show()\n",
    "p2 = Point(3,4)\n",
    "p2.show()\n",
    "b= Box(p1,p2)\n",
    "b.move(1,1)\n",
    "b.show()"
   ]
  },
  {
   "cell_type": "code",
   "execution_count": null,
   "metadata": {},
   "outputs": [],
   "source": []
  }
 ],
 "metadata": {
  "kernelspec": {
   "display_name": "Python 3",
   "language": "python",
   "name": "python3"
  },
  "language_info": {
   "codemirror_mode": {
    "name": "ipython",
    "version": 3
   },
   "file_extension": ".py",
   "mimetype": "text/x-python",
   "name": "python",
   "nbconvert_exporter": "python",
   "pygments_lexer": "ipython3",
   "version": "3.8.5"
  }
 },
 "nbformat": 4,
 "nbformat_minor": 4
}
