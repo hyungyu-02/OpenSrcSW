{
 "cells": [
  {
   "cell_type": "markdown",
   "metadata": {},
   "source": [
    "실습1"
   ]
  },
  {
   "cell_type": "code",
   "execution_count": 2,
   "metadata": {},
   "outputs": [
    {
     "name": "stdout",
     "output_type": "stream",
     "text": [
      "33600\n"
     ]
    },
    {
     "data": {
      "text/html": [
       "<div>\n",
       "<style scoped>\n",
       "    .dataframe tbody tr th:only-of-type {\n",
       "        vertical-align: middle;\n",
       "    }\n",
       "\n",
       "    .dataframe tbody tr th {\n",
       "        vertical-align: top;\n",
       "    }\n",
       "\n",
       "    .dataframe thead th {\n",
       "        text-align: right;\n",
       "    }\n",
       "</style>\n",
       "<table border=\"1\" class=\"dataframe\">\n",
       "  <thead>\n",
       "    <tr style=\"text-align: right;\">\n",
       "      <th></th>\n",
       "      <th>unit price</th>\n",
       "      <th>number</th>\n",
       "      <th>total price</th>\n",
       "    </tr>\n",
       "  </thead>\n",
       "  <tbody>\n",
       "    <tr>\n",
       "      <th>store2</th>\n",
       "      <td>280</td>\n",
       "      <td>120</td>\n",
       "      <td>33600</td>\n",
       "    </tr>\n",
       "  </tbody>\n",
       "</table>\n",
       "</div>"
      ],
      "text/plain": [
       "        unit price  number  total price\n",
       "store2         280     120        33600"
      ]
     },
     "execution_count": 2,
     "metadata": {},
     "output_type": "execute_result"
    }
   ],
   "source": [
    "import numpy as np\n",
    "import pandas as pd\n",
    "\n",
    "data = {'unit price':[1000,280,900],\n",
    "       'number':[25,120,30]}\n",
    "df = pd.DataFrame(data,index=['store1','store2','store3'])\n",
    "df['total price']=df['unit price']*df['number']\n",
    "\n",
    "max = df['total price'][0]\n",
    "\n",
    "for i in df['total price']:\n",
    "    if (i > max):\n",
    "        max = i\n",
    "print(max)\n",
    "df.loc[df['total price']>=max]"
   ]
  },
  {
   "cell_type": "code",
   "execution_count": 8,
   "metadata": {},
   "outputs": [
    {
     "name": "stdout",
     "output_type": "stream",
     "text": [
      "[[0 1 2 3 4]\n",
      " [5 6 7 8 9]]\n",
      "[[ 30  80]\n",
      " [ 80 255]]\n",
      "[[25 30 35 40 45]\n",
      " [30 37 44 51 58]\n",
      " [35 44 53 62 71]\n",
      " [40 51 62 73 84]\n",
      " [45 58 71 84 97]]\n",
      "[[25 30 35 40 45]\n",
      " [30 37 44 51 58]\n",
      " [35 44 53 62 71]\n",
      " [40 51 62 73 84]\n",
      " [45 58 71 84 97]]\n",
      "[[15 20 25 30 35]\n",
      " [20 27 34 41 48]\n",
      " [25 34 43 52 61]\n",
      " [30 41 52 63 74]\n",
      " [35 48 61 74 87]]\n"
     ]
    }
   ],
   "source": [
    "a = np.arange(10).reshape(2,5)\n",
    "b = np.arange(10).reshape(2,5)\n",
    "print(a)\n",
    "\n",
    "c = np.dot(a,b.T)\n",
    "print(c)\n",
    "c = np.dot(b.T,a)\n",
    "print(c)\n",
    "d = np.dot(a.T,b)\n",
    "print(d)\n",
    "d = d-10\n",
    "print(d)"
   ]
  },
  {
   "cell_type": "code",
   "execution_count": 14,
   "metadata": {
    "scrolled": true
   },
   "outputs": [
    {
     "data": {
      "text/html": [
       "<div>\n",
       "<style scoped>\n",
       "    .dataframe tbody tr th:only-of-type {\n",
       "        vertical-align: middle;\n",
       "    }\n",
       "\n",
       "    .dataframe tbody tr th {\n",
       "        vertical-align: top;\n",
       "    }\n",
       "\n",
       "    .dataframe thead th {\n",
       "        text-align: right;\n",
       "    }\n",
       "</style>\n",
       "<table border=\"1\" class=\"dataframe\">\n",
       "  <thead>\n",
       "    <tr style=\"text-align: right;\">\n",
       "      <th></th>\n",
       "      <th>price</th>\n",
       "      <th>num</th>\n",
       "    </tr>\n",
       "  </thead>\n",
       "  <tbody>\n",
       "    <tr>\n",
       "      <th>m1</th>\n",
       "      <td>0.572508</td>\n",
       "      <td>0.520900</td>\n",
       "    </tr>\n",
       "    <tr>\n",
       "      <th>m2</th>\n",
       "      <td>0.361892</td>\n",
       "      <td>0.660775</td>\n",
       "    </tr>\n",
       "  </tbody>\n",
       "</table>\n",
       "</div>"
      ],
      "text/plain": [
       "       price       num\n",
       "m1  0.572508  0.520900\n",
       "m2  0.361892  0.660775"
      ]
     },
     "execution_count": 14,
     "metadata": {},
     "output_type": "execute_result"
    }
   ],
   "source": [
    "df = pd.DataFrame(np.random.rand(3,2), index = ['m1','m2','m3'], columns = ['price','num'])\n",
    "\n",
    "df.loc[df['price']>0.3]"
   ]
  },
  {
   "cell_type": "code",
   "execution_count": 17,
   "metadata": {},
   "outputs": [
    {
     "name": "stdout",
     "output_type": "stream",
     "text": [
      "       price       num\n",
      "m1  0.365331  0.801666\n",
      "m2  0.655472  0.848015\n",
      "m3  0.400886  0.047343\n"
     ]
    }
   ],
   "source": [
    "df = pd.DataFrame(np.random.rand(3,2), index = ['m1','m2','m3'], columns = ['price','num'])\n",
    "\n",
    "df2 = df[df['price']>0.3]\n",
    "print(df2)"
   ]
  },
  {
   "cell_type": "code",
   "execution_count": 18,
   "metadata": {},
   "outputs": [
    {
     "data": {
      "text/html": [
       "<div>\n",
       "<style scoped>\n",
       "    .dataframe tbody tr th:only-of-type {\n",
       "        vertical-align: middle;\n",
       "    }\n",
       "\n",
       "    .dataframe tbody tr th {\n",
       "        vertical-align: top;\n",
       "    }\n",
       "\n",
       "    .dataframe thead th {\n",
       "        text-align: right;\n",
       "    }\n",
       "</style>\n",
       "<table border=\"1\" class=\"dataframe\">\n",
       "  <thead>\n",
       "    <tr style=\"text-align: right;\">\n",
       "      <th></th>\n",
       "      <th>m1</th>\n",
       "      <th>m2</th>\n",
       "      <th>m3</th>\n",
       "    </tr>\n",
       "  </thead>\n",
       "  <tbody>\n",
       "    <tr>\n",
       "      <th>price</th>\n",
       "      <td>0.547919</td>\n",
       "      <td>0.306708</td>\n",
       "      <td>0.046001</td>\n",
       "    </tr>\n",
       "    <tr>\n",
       "      <th>num</th>\n",
       "      <td>0.246860</td>\n",
       "      <td>0.971107</td>\n",
       "      <td>0.172300</td>\n",
       "    </tr>\n",
       "  </tbody>\n",
       "</table>\n",
       "</div>"
      ],
      "text/plain": [
       "             m1        m2        m3\n",
       "price  0.547919  0.306708  0.046001\n",
       "num    0.246860  0.971107  0.172300"
      ]
     },
     "execution_count": 18,
     "metadata": {},
     "output_type": "execute_result"
    }
   ],
   "source": [
    "df = pd.DataFrame(np.random.rand(3,2), index = ['m1','m2','m3'], columns = ['price','num'])\n",
    "\n",
    "df.T"
   ]
  },
  {
   "cell_type": "code",
   "execution_count": 19,
   "metadata": {},
   "outputs": [
    {
     "data": {
      "text/html": [
       "<div>\n",
       "<style scoped>\n",
       "    .dataframe tbody tr th:only-of-type {\n",
       "        vertical-align: middle;\n",
       "    }\n",
       "\n",
       "    .dataframe tbody tr th {\n",
       "        vertical-align: top;\n",
       "    }\n",
       "\n",
       "    .dataframe thead th {\n",
       "        text-align: right;\n",
       "    }\n",
       "</style>\n",
       "<table border=\"1\" class=\"dataframe\">\n",
       "  <thead>\n",
       "    <tr style=\"text-align: right;\">\n",
       "      <th></th>\n",
       "      <th>price</th>\n",
       "      <th>num</th>\n",
       "      <th>sum</th>\n",
       "    </tr>\n",
       "  </thead>\n",
       "  <tbody>\n",
       "    <tr>\n",
       "      <th>m1</th>\n",
       "      <td>0.512771</td>\n",
       "      <td>0.176128</td>\n",
       "      <td>0.688899</td>\n",
       "    </tr>\n",
       "    <tr>\n",
       "      <th>m2</th>\n",
       "      <td>0.280890</td>\n",
       "      <td>0.453461</td>\n",
       "      <td>0.734351</td>\n",
       "    </tr>\n",
       "    <tr>\n",
       "      <th>m3</th>\n",
       "      <td>0.516930</td>\n",
       "      <td>0.918182</td>\n",
       "      <td>1.435113</td>\n",
       "    </tr>\n",
       "  </tbody>\n",
       "</table>\n",
       "</div>"
      ],
      "text/plain": [
       "       price       num       sum\n",
       "m1  0.512771  0.176128  0.688899\n",
       "m2  0.280890  0.453461  0.734351\n",
       "m3  0.516930  0.918182  1.435113"
      ]
     },
     "execution_count": 19,
     "metadata": {},
     "output_type": "execute_result"
    }
   ],
   "source": [
    "df = pd.DataFrame(np.random.rand(3,2), index = ['m1','m2','m3'], columns = ['price','num'])\n",
    "\n",
    "df['sum'] = np.sum(df, axis=1)\n",
    "df"
   ]
  },
  {
   "cell_type": "code",
   "execution_count": 20,
   "metadata": {},
   "outputs": [
    {
     "name": "stdout",
     "output_type": "stream",
     "text": [
      "(1,2)\n",
      "(3,4)\n",
      "(4,6)\n"
     ]
    }
   ],
   "source": [
    "class Point:\n",
    "    def __init__(self, x=0, y=0):\n",
    "        self.x = x\n",
    "        self.y = y\n",
    "        \n",
    "    def show(self):\n",
    "        print(\"({0:d},{1:d})\".format(self.x,self.y))\n",
    "        \n",
    "    def __add__(self,other):\n",
    "        self.x += other.x\n",
    "        self.y += other.y\n",
    "        return self\n",
    "\n",
    "a = Point(1,2)\n",
    "a.show()\n",
    "\n",
    "b = Point(3,4)\n",
    "b.show()\n",
    "\n",
    "a = a+b\n",
    "a.show()"
   ]
  },
  {
   "cell_type": "code",
   "execution_count": 21,
   "metadata": {},
   "outputs": [
    {
     "name": "stdout",
     "output_type": "stream",
     "text": [
      "Max Week = 5/8 ~ 5/14\n"
     ]
    }
   ],
   "source": [
    "import csv\n",
    "\n",
    "f = open('Seoul.csv')\n",
    "data = csv.reader(f)\n",
    "next(data)\n",
    "\n",
    "se = [] # 하루하루의 일교차데이터 삽입\n",
    "\n",
    "for row in data:\n",
    "    if row[0].split('.')[1] == '5':\n",
    "        if row[-1] != '' and row[-2] != '':\n",
    "            se.append(float(row[-1]) - float(row[-2]))\n",
    "\n",
    "eachWeek=[0]*(len(se)//7 + 1) # 일주일 단위의 일교차 합 데이터 삽입\n",
    "\n",
    "for i in range(len(se)):\n",
    "    eachWeek[i//7] += se[i]\n",
    "\n",
    "maxIdx = 0\n",
    "for i in range(len(eachWeek)):\n",
    "    if eachWeek[maxIdx]<eachWeek[i]:\n",
    "        maxIdx = i\n",
    "\n",
    "\n",
    "print(\"Max Week = 5/{0:d} ~ 5/{1:d}\".format(maxIdx*7+1,maxIdx*7+7))\n",
    "\n",
    "f.close()"
   ]
  },
  {
   "cell_type": "code",
   "execution_count": 22,
   "metadata": {},
   "outputs": [
    {
     "data": {
      "image/png": "[encoded data removed]",
      "text/plain": [
       "<Figure size 432x288 with 1 Axes>"
      ]
     },
     "metadata": {
      "needs_background": "light"
     },
     "output_type": "display_data"
    }
   ],
   "source": [
    "import matplotlib.pyplot as plt\n",
    "import numpy as np\n",
    "\n",
    "Docs = [[1,1,0,1,0,1],\n",
    "       [1,1,1,0,1,0],\n",
    "       [1,1,0,1,0,0]]\n",
    "Query = [1,1,0,0,1,0]\n",
    "\n",
    "sim = [0]*len(Docs)\n",
    "\n",
    "docSize = [0]*len(Docs)\n",
    "qSize = np.sqrt(np.dot(Query,Query))\n",
    "\n",
    "for i in range(len(sim)):\n",
    "    sim[i] = np.dot(Docs[i],Query)/(np.sqrt(np.dot(Docs[i],Docs[i]))*qSize)\n",
    "    \n",
    "xData = ['']*len(sim)\n",
    "\n",
    "for i in range(len(xData)):\n",
    "    xData[i] = \"doc{0:d}={1:.2f}\".format(i+1,sim[i])\n",
    "\n",
    "plt.bar(xData,sim)\n",
    "plt.title('Cosine similarities')\n",
    "plt.show()"
   ]
  },
  {
   "cell_type": "code",
   "execution_count": null,
   "metadata": {},
   "outputs": [],
   "source": []
  }
 ],
 "metadata": {
  "kernelspec": {
   "display_name": "Python 3",
   "language": "python",
   "name": "python3"
  },
  "language_info": {
   "codemirror_mode": {
    "name": "ipython",
    "version": 3
   },
   "file_extension": ".py",
   "mimetype": "text/x-python",
   "name": "python",
   "nbconvert_exporter": "python",
   "pygments_lexer": "ipython3",
   "version": "3.8.5"
  }
 },
 "nbformat": 4,
 "nbformat_minor": 4
}
