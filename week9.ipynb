{
 "cells": [
  {
   "cell_type": "markdown",
   "metadata": {},
   "source": [
    "1."
   ]
  },
  {
   "cell_type": "code",
   "execution_count": 2,
   "metadata": {},
   "outputs": [
    {
     "name": "stdout",
     "output_type": "stream",
     "text": [
      "7 시간 36 분\n"
     ]
    }
   ],
   "source": [
    "totalMin = 456\n",
    "hours = 456//60\n",
    "mins = 456%60\n",
    "print(\"%d 시간 %d 분\"%(hours, mins))"
   ]
  },
  {
   "cell_type": "markdown",
   "metadata": {},
   "source": [
    "2."
   ]
  },
  {
   "cell_type": "code",
   "execution_count": 2,
   "metadata": {},
   "outputs": [
    {
     "name": "stdout",
     "output_type": "stream",
     "text": [
      "['홍길동', '임꺽정', '김철수', '이영희']\n",
      "['김철수', '이영희', '임꺽정', '홍길동']\n",
      "김철수 2.8\n"
     ]
    }
   ],
   "source": [
    "d={\"홍길동\":3.4, \"임꺽정\":4.0, \"김철수\":2.8, \"이영희\":3.9}\n",
    "k = d.keys()\n",
    "k_list = list(k)\n",
    "print(k_list)\n",
    "k_list.sort()\n",
    "print(k_list)\n",
    "key = k_list[0]\n",
    "value = d[key]\n",
    "print(key,value)"
   ]
  },
  {
   "cell_type": "code",
   "execution_count": 2,
   "metadata": {},
   "outputs": [
    {
     "name": "stdout",
     "output_type": "stream",
     "text": [
      "사람 수?2\n",
      "name = d\n",
      "number = 23\n",
      "name = g\n",
      "number = 34\n",
      "검색할 이름? g\n",
      "g's phone number is 34\n"
     ]
    }
   ],
   "source": [
    "def search_phone(book, name):\n",
    "    num = book[name]\n",
    "    if num:\n",
    "        return num\n",
    "    else:\n",
    "        return \"none\"\n",
    "    \n",
    "n = int(input(\"사람 수?\"))\n",
    "\n",
    "book = dict()\n",
    "\n",
    "for i in range(n):\n",
    "    k = input(\"name = \")\n",
    "    v = input(\"number = \")\n",
    "    book[k] = v\n",
    "    \n",
    "k = input(\"검색할 이름? \")\n",
    "v = search_phone(book, k)\n",
    "print(\"{0:s}'s phone number is {1:s}\".format(k,v))"
   ]
  },
  {
   "cell_type": "code",
   "execution_count": null,
   "metadata": {},
   "outputs": [],
   "source": []
  }
 ],
 "metadata": {
  "kernelspec": {
   "display_name": "Python 3",
   "language": "python",
   "name": "python3"
  },
  "language_info": {
   "codemirror_mode": {
    "name": "ipython",
    "version": 3
   },
   "file_extension": ".py",
   "mimetype": "text/x-python",
   "name": "python",
   "nbconvert_exporter": "python",
   "pygments_lexer": "ipython3",
   "version": "3.8.5"
  }
 },
 "nbformat": 4,
 "nbformat_minor": 4
}
